{
 "cells": [
  {
   "cell_type": "code",
   "execution_count": null,
   "metadata": {},
   "outputs": [],
   "source": [
    "Here we use face_recognition python module. This module runs upon dlib a c++ based library."
   ]
  },
  {
   "cell_type": "code",
   "execution_count": 6,
   "metadata": {},
   "outputs": [],
   "source": [
    "import glob\n",
    "import face_recognition\n",
    "import cv2\n",
    "import numpy as np\n",
    "import jovian"
   ]
  },
  {
   "cell_type": "code",
   "execution_count": 2,
   "metadata": {},
   "outputs": [],
   "source": [
    "## DATA UNDERSTANDING"
   ]
  },
  {
   "cell_type": "code",
   "execution_count": 3,
   "metadata": {},
   "outputs": [
    {
     "name": "stdout",
     "output_type": "stream",
     "text": [
      "['EjDz0YcU8AADvXi']\n",
      "['EjDz0YcU8AADvXi', 'Screenshot 2022-04-21 at 10']\n",
      "['EjDz0YcU8AADvXi', 'Screenshot 2022-04-21 at 10', 'Riches-Owned-By-Raj-Kapoor-During-His-Lifetime1200_5ed65ac7df7d5']\n",
      "['EjDz0YcU8AADvXi', 'Screenshot 2022-04-21 at 10', 'Riches-Owned-By-Raj-Kapoor-During-His-Lifetime1200_5ed65ac7df7d5', 'Screenshot 2022-04-21 at 10']\n",
      "['EjDz0YcU8AADvXi', 'Screenshot 2022-04-21 at 10', 'Riches-Owned-By-Raj-Kapoor-During-His-Lifetime1200_5ed65ac7df7d5', 'Screenshot 2022-04-21 at 10', 'Screenshot 2022-04-21 at 10']\n",
      "['EjDz0YcU8AADvXi', 'Screenshot 2022-04-21 at 10', 'Riches-Owned-By-Raj-Kapoor-During-His-Lifetime1200_5ed65ac7df7d5', 'Screenshot 2022-04-21 at 10', 'Screenshot 2022-04-21 at 10', 'SS-Rajamouli-Biography-RRR-director']\n",
      "['EjDz0YcU8AADvXi', 'Screenshot 2022-04-21 at 10', 'Riches-Owned-By-Raj-Kapoor-During-His-Lifetime1200_5ed65ac7df7d5', 'Screenshot 2022-04-21 at 10', 'Screenshot 2022-04-21 at 10', 'SS-Rajamouli-Biography-RRR-director', 'jeff bezos']\n",
      "['EjDz0YcU8AADvXi', 'Screenshot 2022-04-21 at 10', 'Riches-Owned-By-Raj-Kapoor-During-His-Lifetime1200_5ed65ac7df7d5', 'Screenshot 2022-04-21 at 10', 'Screenshot 2022-04-21 at 10', 'SS-Rajamouli-Biography-RRR-director', 'jeff bezos', 'file77wj8fdnuqh12166unju-1593850522']\n",
      "['EjDz0YcU8AADvXi', 'Screenshot 2022-04-21 at 10', 'Riches-Owned-By-Raj-Kapoor-During-His-Lifetime1200_5ed65ac7df7d5', 'Screenshot 2022-04-21 at 10', 'Screenshot 2022-04-21 at 10', 'SS-Rajamouli-Biography-RRR-director', 'jeff bezos', 'file77wj8fdnuqh12166unju-1593850522', '59-596739_ajith-hd']\n",
      "['EjDz0YcU8AADvXi', 'Screenshot 2022-04-21 at 10', 'Riches-Owned-By-Raj-Kapoor-During-His-Lifetime1200_5ed65ac7df7d5', 'Screenshot 2022-04-21 at 10', 'Screenshot 2022-04-21 at 10', 'SS-Rajamouli-Biography-RRR-director', 'jeff bezos', 'file77wj8fdnuqh12166unju-1593850522', '59-596739_ajith-hd', 'Mahatma-Gandhi,_studio,_1931']\n",
      "['EjDz0YcU8AADvXi', 'Screenshot 2022-04-21 at 10', 'Riches-Owned-By-Raj-Kapoor-During-His-Lifetime1200_5ed65ac7df7d5', 'Screenshot 2022-04-21 at 10', 'Screenshot 2022-04-21 at 10', 'SS-Rajamouli-Biography-RRR-director', 'jeff bezos', 'file77wj8fdnuqh12166unju-1593850522', '59-596739_ajith-hd', 'Mahatma-Gandhi,_studio,_1931', 'Dhanush_at_the_‘Asuran’_Success_Meet']\n",
      "['EjDz0YcU8AADvXi', 'Screenshot 2022-04-21 at 10', 'Riches-Owned-By-Raj-Kapoor-During-His-Lifetime1200_5ed65ac7df7d5', 'Screenshot 2022-04-21 at 10', 'Screenshot 2022-04-21 at 10', 'SS-Rajamouli-Biography-RRR-director', 'jeff bezos', 'file77wj8fdnuqh12166unju-1593850522', '59-596739_ajith-hd', 'Mahatma-Gandhi,_studio,_1931', 'Dhanush_at_the_‘Asuran’_Success_Meet', 'Screenshot 2022-04-21 at 10']\n",
      "['EjDz0YcU8AADvXi', 'Screenshot 2022-04-21 at 10', 'Riches-Owned-By-Raj-Kapoor-During-His-Lifetime1200_5ed65ac7df7d5', 'Screenshot 2022-04-21 at 10', 'Screenshot 2022-04-21 at 10', 'SS-Rajamouli-Biography-RRR-director', 'jeff bezos', 'file77wj8fdnuqh12166unju-1593850522', '59-596739_ajith-hd', 'Mahatma-Gandhi,_studio,_1931', 'Dhanush_at_the_‘Asuran’_Success_Meet', 'Screenshot 2022-04-21 at 10', 'Screenshot 2022-04-21 at 10']\n",
      "['EjDz0YcU8AADvXi', 'Screenshot 2022-04-21 at 10', 'Riches-Owned-By-Raj-Kapoor-During-His-Lifetime1200_5ed65ac7df7d5', 'Screenshot 2022-04-21 at 10', 'Screenshot 2022-04-21 at 10', 'SS-Rajamouli-Biography-RRR-director', 'jeff bezos', 'file77wj8fdnuqh12166unju-1593850522', '59-596739_ajith-hd', 'Mahatma-Gandhi,_studio,_1931', 'Dhanush_at_the_‘Asuran’_Success_Meet', 'Screenshot 2022-04-21 at 10', 'Screenshot 2022-04-21 at 10', 'Chandrababu_Naidu_2017']\n",
      "['EjDz0YcU8AADvXi', 'Screenshot 2022-04-21 at 10', 'Riches-Owned-By-Raj-Kapoor-During-His-Lifetime1200_5ed65ac7df7d5', 'Screenshot 2022-04-21 at 10', 'Screenshot 2022-04-21 at 10', 'SS-Rajamouli-Biography-RRR-director', 'jeff bezos', 'file77wj8fdnuqh12166unju-1593850522', '59-596739_ajith-hd', 'Mahatma-Gandhi,_studio,_1931', 'Dhanush_at_the_‘Asuran’_Success_Meet', 'Screenshot 2022-04-21 at 10', 'Screenshot 2022-04-21 at 10', 'Chandrababu_Naidu_2017', 'Screenshot 2022-04-21 at 10']\n",
      "['EjDz0YcU8AADvXi', 'Screenshot 2022-04-21 at 10', 'Riches-Owned-By-Raj-Kapoor-During-His-Lifetime1200_5ed65ac7df7d5', 'Screenshot 2022-04-21 at 10', 'Screenshot 2022-04-21 at 10', 'SS-Rajamouli-Biography-RRR-director', 'jeff bezos', 'file77wj8fdnuqh12166unju-1593850522', '59-596739_ajith-hd', 'Mahatma-Gandhi,_studio,_1931', 'Dhanush_at_the_‘Asuran’_Success_Meet', 'Screenshot 2022-04-21 at 10', 'Screenshot 2022-04-21 at 10', 'Chandrababu_Naidu_2017', 'Screenshot 2022-04-21 at 10', 'Q1r6FSus_400x400']\n",
      "['EjDz0YcU8AADvXi', 'Screenshot 2022-04-21 at 10', 'Riches-Owned-By-Raj-Kapoor-During-His-Lifetime1200_5ed65ac7df7d5', 'Screenshot 2022-04-21 at 10', 'Screenshot 2022-04-21 at 10', 'SS-Rajamouli-Biography-RRR-director', 'jeff bezos', 'file77wj8fdnuqh12166unju-1593850522', '59-596739_ajith-hd', 'Mahatma-Gandhi,_studio,_1931', 'Dhanush_at_the_‘Asuran’_Success_Meet', 'Screenshot 2022-04-21 at 10', 'Screenshot 2022-04-21 at 10', 'Chandrababu_Naidu_2017', 'Screenshot 2022-04-21 at 10', 'Q1r6FSus_400x400', 'Screenshot 2022-04-21 at 10']\n",
      "['EjDz0YcU8AADvXi', 'Screenshot 2022-04-21 at 10', 'Riches-Owned-By-Raj-Kapoor-During-His-Lifetime1200_5ed65ac7df7d5', 'Screenshot 2022-04-21 at 10', 'Screenshot 2022-04-21 at 10', 'SS-Rajamouli-Biography-RRR-director', 'jeff bezos', 'file77wj8fdnuqh12166unju-1593850522', '59-596739_ajith-hd', 'Mahatma-Gandhi,_studio,_1931', 'Dhanush_at_the_‘Asuran’_Success_Meet', 'Screenshot 2022-04-21 at 10', 'Screenshot 2022-04-21 at 10', 'Chandrababu_Naidu_2017', 'Screenshot 2022-04-21 at 10', 'Q1r6FSus_400x400', 'Screenshot 2022-04-21 at 10', 'Screenshot 2022-04-21 at 10']\n",
      "['EjDz0YcU8AADvXi', 'Screenshot 2022-04-21 at 10', 'Riches-Owned-By-Raj-Kapoor-During-His-Lifetime1200_5ed65ac7df7d5', 'Screenshot 2022-04-21 at 10', 'Screenshot 2022-04-21 at 10', 'SS-Rajamouli-Biography-RRR-director', 'jeff bezos', 'file77wj8fdnuqh12166unju-1593850522', '59-596739_ajith-hd', 'Mahatma-Gandhi,_studio,_1931', 'Dhanush_at_the_‘Asuran’_Success_Meet', 'Screenshot 2022-04-21 at 10', 'Screenshot 2022-04-21 at 10', 'Chandrababu_Naidu_2017', 'Screenshot 2022-04-21 at 10', 'Q1r6FSus_400x400', 'Screenshot 2022-04-21 at 10', 'Screenshot 2022-04-21 at 10', 'Venkaiah_Naidu_official_portrait']\n",
      "['EjDz0YcU8AADvXi', 'Screenshot 2022-04-21 at 10', 'Riches-Owned-By-Raj-Kapoor-During-His-Lifetime1200_5ed65ac7df7d5', 'Screenshot 2022-04-21 at 10', 'Screenshot 2022-04-21 at 10', 'SS-Rajamouli-Biography-RRR-director', 'jeff bezos', 'file77wj8fdnuqh12166unju-1593850522', '59-596739_ajith-hd', 'Mahatma-Gandhi,_studio,_1931', 'Dhanush_at_the_‘Asuran’_Success_Meet', 'Screenshot 2022-04-21 at 10', 'Screenshot 2022-04-21 at 10', 'Chandrababu_Naidu_2017', 'Screenshot 2022-04-21 at 10', 'Q1r6FSus_400x400', 'Screenshot 2022-04-21 at 10', 'Screenshot 2022-04-21 at 10', 'Venkaiah_Naidu_official_portrait', 'Screenshot 2022-04-21 at 10']\n",
      "['EjDz0YcU8AADvXi', 'Screenshot 2022-04-21 at 10', 'Riches-Owned-By-Raj-Kapoor-During-His-Lifetime1200_5ed65ac7df7d5', 'Screenshot 2022-04-21 at 10', 'Screenshot 2022-04-21 at 10', 'SS-Rajamouli-Biography-RRR-director', 'jeff bezos', 'file77wj8fdnuqh12166unju-1593850522', '59-596739_ajith-hd', 'Mahatma-Gandhi,_studio,_1931', 'Dhanush_at_the_‘Asuran’_Success_Meet', 'Screenshot 2022-04-21 at 10', 'Screenshot 2022-04-21 at 10', 'Chandrababu_Naidu_2017', 'Screenshot 2022-04-21 at 10', 'Q1r6FSus_400x400', 'Screenshot 2022-04-21 at 10', 'Screenshot 2022-04-21 at 10', 'Venkaiah_Naidu_official_portrait', 'Screenshot 2022-04-21 at 10', 'obama']\n",
      "['EjDz0YcU8AADvXi', 'Screenshot 2022-04-21 at 10', 'Riches-Owned-By-Raj-Kapoor-During-His-Lifetime1200_5ed65ac7df7d5', 'Screenshot 2022-04-21 at 10', 'Screenshot 2022-04-21 at 10', 'SS-Rajamouli-Biography-RRR-director', 'jeff bezos', 'file77wj8fdnuqh12166unju-1593850522', '59-596739_ajith-hd', 'Mahatma-Gandhi,_studio,_1931', 'Dhanush_at_the_‘Asuran’_Success_Meet', 'Screenshot 2022-04-21 at 10', 'Screenshot 2022-04-21 at 10', 'Chandrababu_Naidu_2017', 'Screenshot 2022-04-21 at 10', 'Q1r6FSus_400x400', 'Screenshot 2022-04-21 at 10', 'Screenshot 2022-04-21 at 10', 'Venkaiah_Naidu_official_portrait', 'Screenshot 2022-04-21 at 10', 'obama', 'Jnehru']\n",
      "['EjDz0YcU8AADvXi', 'Screenshot 2022-04-21 at 10', 'Riches-Owned-By-Raj-Kapoor-During-His-Lifetime1200_5ed65ac7df7d5', 'Screenshot 2022-04-21 at 10', 'Screenshot 2022-04-21 at 10', 'SS-Rajamouli-Biography-RRR-director', 'jeff bezos', 'file77wj8fdnuqh12166unju-1593850522', '59-596739_ajith-hd', 'Mahatma-Gandhi,_studio,_1931', 'Dhanush_at_the_‘Asuran’_Success_Meet', 'Screenshot 2022-04-21 at 10', 'Screenshot 2022-04-21 at 10', 'Chandrababu_Naidu_2017', 'Screenshot 2022-04-21 at 10', 'Q1r6FSus_400x400', 'Screenshot 2022-04-21 at 10', 'Screenshot 2022-04-21 at 10', 'Venkaiah_Naidu_official_portrait', 'Screenshot 2022-04-21 at 10', 'obama', 'Jnehru', 'Screenshot 2022-04-21 at 10']\n"
     ]
    },
    {
     "name": "stdout",
     "output_type": "stream",
     "text": [
      "['EjDz0YcU8AADvXi', 'Screenshot 2022-04-21 at 10', 'Riches-Owned-By-Raj-Kapoor-During-His-Lifetime1200_5ed65ac7df7d5', 'Screenshot 2022-04-21 at 10', 'Screenshot 2022-04-21 at 10', 'SS-Rajamouli-Biography-RRR-director', 'jeff bezos', 'file77wj8fdnuqh12166unju-1593850522', '59-596739_ajith-hd', 'Mahatma-Gandhi,_studio,_1931', 'Dhanush_at_the_‘Asuran’_Success_Meet', 'Screenshot 2022-04-21 at 10', 'Screenshot 2022-04-21 at 10', 'Chandrababu_Naidu_2017', 'Screenshot 2022-04-21 at 10', 'Q1r6FSus_400x400', 'Screenshot 2022-04-21 at 10', 'Screenshot 2022-04-21 at 10', 'Venkaiah_Naidu_official_portrait', 'Screenshot 2022-04-21 at 10', 'obama', 'Jnehru', 'Screenshot 2022-04-21 at 10', 'Screenshot 2022-04-21 at 10']\n",
      "['EjDz0YcU8AADvXi', 'Screenshot 2022-04-21 at 10', 'Riches-Owned-By-Raj-Kapoor-During-His-Lifetime1200_5ed65ac7df7d5', 'Screenshot 2022-04-21 at 10', 'Screenshot 2022-04-21 at 10', 'SS-Rajamouli-Biography-RRR-director', 'jeff bezos', 'file77wj8fdnuqh12166unju-1593850522', '59-596739_ajith-hd', 'Mahatma-Gandhi,_studio,_1931', 'Dhanush_at_the_‘Asuran’_Success_Meet', 'Screenshot 2022-04-21 at 10', 'Screenshot 2022-04-21 at 10', 'Chandrababu_Naidu_2017', 'Screenshot 2022-04-21 at 10', 'Q1r6FSus_400x400', 'Screenshot 2022-04-21 at 10', 'Screenshot 2022-04-21 at 10', 'Venkaiah_Naidu_official_portrait', 'Screenshot 2022-04-21 at 10', 'obama', 'Jnehru', 'Screenshot 2022-04-21 at 10', 'Screenshot 2022-04-21 at 10', 'elon musk']\n",
      "['EjDz0YcU8AADvXi', 'Screenshot 2022-04-21 at 10', 'Riches-Owned-By-Raj-Kapoor-During-His-Lifetime1200_5ed65ac7df7d5', 'Screenshot 2022-04-21 at 10', 'Screenshot 2022-04-21 at 10', 'SS-Rajamouli-Biography-RRR-director', 'jeff bezos', 'file77wj8fdnuqh12166unju-1593850522', '59-596739_ajith-hd', 'Mahatma-Gandhi,_studio,_1931', 'Dhanush_at_the_‘Asuran’_Success_Meet', 'Screenshot 2022-04-21 at 10', 'Screenshot 2022-04-21 at 10', 'Chandrababu_Naidu_2017', 'Screenshot 2022-04-21 at 10', 'Q1r6FSus_400x400', 'Screenshot 2022-04-21 at 10', 'Screenshot 2022-04-21 at 10', 'Venkaiah_Naidu_official_portrait', 'Screenshot 2022-04-21 at 10', 'obama', 'Jnehru', 'Screenshot 2022-04-21 at 10', 'Screenshot 2022-04-21 at 10', 'elon musk', 'Screenshot 2022-04-21 at 10']\n",
      "['EjDz0YcU8AADvXi', 'Screenshot 2022-04-21 at 10', 'Riches-Owned-By-Raj-Kapoor-During-His-Lifetime1200_5ed65ac7df7d5', 'Screenshot 2022-04-21 at 10', 'Screenshot 2022-04-21 at 10', 'SS-Rajamouli-Biography-RRR-director', 'jeff bezos', 'file77wj8fdnuqh12166unju-1593850522', '59-596739_ajith-hd', 'Mahatma-Gandhi,_studio,_1931', 'Dhanush_at_the_‘Asuran’_Success_Meet', 'Screenshot 2022-04-21 at 10', 'Screenshot 2022-04-21 at 10', 'Chandrababu_Naidu_2017', 'Screenshot 2022-04-21 at 10', 'Q1r6FSus_400x400', 'Screenshot 2022-04-21 at 10', 'Screenshot 2022-04-21 at 10', 'Venkaiah_Naidu_official_portrait', 'Screenshot 2022-04-21 at 10', 'obama', 'Jnehru', 'Screenshot 2022-04-21 at 10', 'Screenshot 2022-04-21 at 10', 'elon musk', 'Screenshot 2022-04-21 at 10', 'Screenshot 2022-04-21 at 10']\n",
      "['EjDz0YcU8AADvXi', 'Screenshot 2022-04-21 at 10', 'Riches-Owned-By-Raj-Kapoor-During-His-Lifetime1200_5ed65ac7df7d5', 'Screenshot 2022-04-21 at 10', 'Screenshot 2022-04-21 at 10', 'SS-Rajamouli-Biography-RRR-director', 'jeff bezos', 'file77wj8fdnuqh12166unju-1593850522', '59-596739_ajith-hd', 'Mahatma-Gandhi,_studio,_1931', 'Dhanush_at_the_‘Asuran’_Success_Meet', 'Screenshot 2022-04-21 at 10', 'Screenshot 2022-04-21 at 10', 'Chandrababu_Naidu_2017', 'Screenshot 2022-04-21 at 10', 'Q1r6FSus_400x400', 'Screenshot 2022-04-21 at 10', 'Screenshot 2022-04-21 at 10', 'Venkaiah_Naidu_official_portrait', 'Screenshot 2022-04-21 at 10', 'obama', 'Jnehru', 'Screenshot 2022-04-21 at 10', 'Screenshot 2022-04-21 at 10', 'elon musk', 'Screenshot 2022-04-21 at 10', 'Screenshot 2022-04-21 at 10', '220414145654-vladimir-putin-february-18-2022-file']\n",
      "['EjDz0YcU8AADvXi', 'Screenshot 2022-04-21 at 10', 'Riches-Owned-By-Raj-Kapoor-During-His-Lifetime1200_5ed65ac7df7d5', 'Screenshot 2022-04-21 at 10', 'Screenshot 2022-04-21 at 10', 'SS-Rajamouli-Biography-RRR-director', 'jeff bezos', 'file77wj8fdnuqh12166unju-1593850522', '59-596739_ajith-hd', 'Mahatma-Gandhi,_studio,_1931', 'Dhanush_at_the_‘Asuran’_Success_Meet', 'Screenshot 2022-04-21 at 10', 'Screenshot 2022-04-21 at 10', 'Chandrababu_Naidu_2017', 'Screenshot 2022-04-21 at 10', 'Q1r6FSus_400x400', 'Screenshot 2022-04-21 at 10', 'Screenshot 2022-04-21 at 10', 'Venkaiah_Naidu_official_portrait', 'Screenshot 2022-04-21 at 10', 'obama', 'Jnehru', 'Screenshot 2022-04-21 at 10', 'Screenshot 2022-04-21 at 10', 'elon musk', 'Screenshot 2022-04-21 at 10', 'Screenshot 2022-04-21 at 10', '220414145654-vladimir-putin-february-18-2022-file', 'PgOyX1vt_400x400']\n",
      "['EjDz0YcU8AADvXi', 'Screenshot 2022-04-21 at 10', 'Riches-Owned-By-Raj-Kapoor-During-His-Lifetime1200_5ed65ac7df7d5', 'Screenshot 2022-04-21 at 10', 'Screenshot 2022-04-21 at 10', 'SS-Rajamouli-Biography-RRR-director', 'jeff bezos', 'file77wj8fdnuqh12166unju-1593850522', '59-596739_ajith-hd', 'Mahatma-Gandhi,_studio,_1931', 'Dhanush_at_the_‘Asuran’_Success_Meet', 'Screenshot 2022-04-21 at 10', 'Screenshot 2022-04-21 at 10', 'Chandrababu_Naidu_2017', 'Screenshot 2022-04-21 at 10', 'Q1r6FSus_400x400', 'Screenshot 2022-04-21 at 10', 'Screenshot 2022-04-21 at 10', 'Venkaiah_Naidu_official_portrait', 'Screenshot 2022-04-21 at 10', 'obama', 'Jnehru', 'Screenshot 2022-04-21 at 10', 'Screenshot 2022-04-21 at 10', 'elon musk', 'Screenshot 2022-04-21 at 10', 'Screenshot 2022-04-21 at 10', '220414145654-vladimir-putin-february-18-2022-file', 'PgOyX1vt_400x400', 'bill gates']\n",
      "['EjDz0YcU8AADvXi', 'Screenshot 2022-04-21 at 10', 'Riches-Owned-By-Raj-Kapoor-During-His-Lifetime1200_5ed65ac7df7d5', 'Screenshot 2022-04-21 at 10', 'Screenshot 2022-04-21 at 10', 'SS-Rajamouli-Biography-RRR-director', 'jeff bezos', 'file77wj8fdnuqh12166unju-1593850522', '59-596739_ajith-hd', 'Mahatma-Gandhi,_studio,_1931', 'Dhanush_at_the_‘Asuran’_Success_Meet', 'Screenshot 2022-04-21 at 10', 'Screenshot 2022-04-21 at 10', 'Chandrababu_Naidu_2017', 'Screenshot 2022-04-21 at 10', 'Q1r6FSus_400x400', 'Screenshot 2022-04-21 at 10', 'Screenshot 2022-04-21 at 10', 'Venkaiah_Naidu_official_portrait', 'Screenshot 2022-04-21 at 10', 'obama', 'Jnehru', 'Screenshot 2022-04-21 at 10', 'Screenshot 2022-04-21 at 10', 'elon musk', 'Screenshot 2022-04-21 at 10', 'Screenshot 2022-04-21 at 10', '220414145654-vladimir-putin-february-18-2022-file', 'PgOyX1vt_400x400', 'bill gates', 'mohanlal-7591']\n",
      "['EjDz0YcU8AADvXi', 'Screenshot 2022-04-21 at 10', 'Riches-Owned-By-Raj-Kapoor-During-His-Lifetime1200_5ed65ac7df7d5', 'Screenshot 2022-04-21 at 10', 'Screenshot 2022-04-21 at 10', 'SS-Rajamouli-Biography-RRR-director', 'jeff bezos', 'file77wj8fdnuqh12166unju-1593850522', '59-596739_ajith-hd', 'Mahatma-Gandhi,_studio,_1931', 'Dhanush_at_the_‘Asuran’_Success_Meet', 'Screenshot 2022-04-21 at 10', 'Screenshot 2022-04-21 at 10', 'Chandrababu_Naidu_2017', 'Screenshot 2022-04-21 at 10', 'Q1r6FSus_400x400', 'Screenshot 2022-04-21 at 10', 'Screenshot 2022-04-21 at 10', 'Venkaiah_Naidu_official_portrait', 'Screenshot 2022-04-21 at 10', 'obama', 'Jnehru', 'Screenshot 2022-04-21 at 10', 'Screenshot 2022-04-21 at 10', 'elon musk', 'Screenshot 2022-04-21 at 10', 'Screenshot 2022-04-21 at 10', '220414145654-vladimir-putin-february-18-2022-file', 'PgOyX1vt_400x400', 'bill gates', 'mohanlal-7591', 'Screenshot 2022-04-21 at 10']\n",
      "['EjDz0YcU8AADvXi', 'Screenshot 2022-04-21 at 10', 'Riches-Owned-By-Raj-Kapoor-During-His-Lifetime1200_5ed65ac7df7d5', 'Screenshot 2022-04-21 at 10', 'Screenshot 2022-04-21 at 10', 'SS-Rajamouli-Biography-RRR-director', 'jeff bezos', 'file77wj8fdnuqh12166unju-1593850522', '59-596739_ajith-hd', 'Mahatma-Gandhi,_studio,_1931', 'Dhanush_at_the_‘Asuran’_Success_Meet', 'Screenshot 2022-04-21 at 10', 'Screenshot 2022-04-21 at 10', 'Chandrababu_Naidu_2017', 'Screenshot 2022-04-21 at 10', 'Q1r6FSus_400x400', 'Screenshot 2022-04-21 at 10', 'Screenshot 2022-04-21 at 10', 'Venkaiah_Naidu_official_portrait', 'Screenshot 2022-04-21 at 10', 'obama', 'Jnehru', 'Screenshot 2022-04-21 at 10', 'Screenshot 2022-04-21 at 10', 'elon musk', 'Screenshot 2022-04-21 at 10', 'Screenshot 2022-04-21 at 10', '220414145654-vladimir-putin-february-18-2022-file', 'PgOyX1vt_400x400', 'bill gates', 'mohanlal-7591', 'Screenshot 2022-04-21 at 10', 'a-big-reason-for-str-fans-to-celebrate-on-march-19-']\n"
     ]
    },
    {
     "name": "stdout",
     "output_type": "stream",
     "text": [
      "['EjDz0YcU8AADvXi', 'Screenshot 2022-04-21 at 10', 'Riches-Owned-By-Raj-Kapoor-During-His-Lifetime1200_5ed65ac7df7d5', 'Screenshot 2022-04-21 at 10', 'Screenshot 2022-04-21 at 10', 'SS-Rajamouli-Biography-RRR-director', 'jeff bezos', 'file77wj8fdnuqh12166unju-1593850522', '59-596739_ajith-hd', 'Mahatma-Gandhi,_studio,_1931', 'Dhanush_at_the_‘Asuran’_Success_Meet', 'Screenshot 2022-04-21 at 10', 'Screenshot 2022-04-21 at 10', 'Chandrababu_Naidu_2017', 'Screenshot 2022-04-21 at 10', 'Q1r6FSus_400x400', 'Screenshot 2022-04-21 at 10', 'Screenshot 2022-04-21 at 10', 'Venkaiah_Naidu_official_portrait', 'Screenshot 2022-04-21 at 10', 'obama', 'Jnehru', 'Screenshot 2022-04-21 at 10', 'Screenshot 2022-04-21 at 10', 'elon musk', 'Screenshot 2022-04-21 at 10', 'Screenshot 2022-04-21 at 10', '220414145654-vladimir-putin-february-18-2022-file', 'PgOyX1vt_400x400', 'bill gates', 'mohanlal-7591', 'Screenshot 2022-04-21 at 10', 'a-big-reason-for-str-fans-to-celebrate-on-march-19-', 'MV5BYWM5OTY0MDktMjExYy00ZDUxLWJiNmQtYTczOTY5MmQwNDIxXkEyXkFqcGdeQXVyNDUzOTQ5MjY@']\n",
      "['EjDz0YcU8AADvXi', 'Screenshot 2022-04-21 at 10', 'Riches-Owned-By-Raj-Kapoor-During-His-Lifetime1200_5ed65ac7df7d5', 'Screenshot 2022-04-21 at 10', 'Screenshot 2022-04-21 at 10', 'SS-Rajamouli-Biography-RRR-director', 'jeff bezos', 'file77wj8fdnuqh12166unju-1593850522', '59-596739_ajith-hd', 'Mahatma-Gandhi,_studio,_1931', 'Dhanush_at_the_‘Asuran’_Success_Meet', 'Screenshot 2022-04-21 at 10', 'Screenshot 2022-04-21 at 10', 'Chandrababu_Naidu_2017', 'Screenshot 2022-04-21 at 10', 'Q1r6FSus_400x400', 'Screenshot 2022-04-21 at 10', 'Screenshot 2022-04-21 at 10', 'Venkaiah_Naidu_official_portrait', 'Screenshot 2022-04-21 at 10', 'obama', 'Jnehru', 'Screenshot 2022-04-21 at 10', 'Screenshot 2022-04-21 at 10', 'elon musk', 'Screenshot 2022-04-21 at 10', 'Screenshot 2022-04-21 at 10', '220414145654-vladimir-putin-february-18-2022-file', 'PgOyX1vt_400x400', 'bill gates', 'mohanlal-7591', 'Screenshot 2022-04-21 at 10', 'a-big-reason-for-str-fans-to-celebrate-on-march-19-', 'MV5BYWM5OTY0MDktMjExYy00ZDUxLWJiNmQtYTczOTY5MmQwNDIxXkEyXkFqcGdeQXVyNDUzOTQ5MjY@', 'Screenshot 2022-04-21 at 10']\n",
      "['EjDz0YcU8AADvXi', 'Screenshot 2022-04-21 at 10', 'Riches-Owned-By-Raj-Kapoor-During-His-Lifetime1200_5ed65ac7df7d5', 'Screenshot 2022-04-21 at 10', 'Screenshot 2022-04-21 at 10', 'SS-Rajamouli-Biography-RRR-director', 'jeff bezos', 'file77wj8fdnuqh12166unju-1593850522', '59-596739_ajith-hd', 'Mahatma-Gandhi,_studio,_1931', 'Dhanush_at_the_‘Asuran’_Success_Meet', 'Screenshot 2022-04-21 at 10', 'Screenshot 2022-04-21 at 10', 'Chandrababu_Naidu_2017', 'Screenshot 2022-04-21 at 10', 'Q1r6FSus_400x400', 'Screenshot 2022-04-21 at 10', 'Screenshot 2022-04-21 at 10', 'Venkaiah_Naidu_official_portrait', 'Screenshot 2022-04-21 at 10', 'obama', 'Jnehru', 'Screenshot 2022-04-21 at 10', 'Screenshot 2022-04-21 at 10', 'elon musk', 'Screenshot 2022-04-21 at 10', 'Screenshot 2022-04-21 at 10', '220414145654-vladimir-putin-february-18-2022-file', 'PgOyX1vt_400x400', 'bill gates', 'mohanlal-7591', 'Screenshot 2022-04-21 at 10', 'a-big-reason-for-str-fans-to-celebrate-on-march-19-', 'MV5BYWM5OTY0MDktMjExYy00ZDUxLWJiNmQtYTczOTY5MmQwNDIxXkEyXkFqcGdeQXVyNDUzOTQ5MjY@', 'Screenshot 2022-04-21 at 10', 'Screenshot 2022-04-21 at 10']\n",
      "['EjDz0YcU8AADvXi', 'Screenshot 2022-04-21 at 10', 'Riches-Owned-By-Raj-Kapoor-During-His-Lifetime1200_5ed65ac7df7d5', 'Screenshot 2022-04-21 at 10', 'Screenshot 2022-04-21 at 10', 'SS-Rajamouli-Biography-RRR-director', 'jeff bezos', 'file77wj8fdnuqh12166unju-1593850522', '59-596739_ajith-hd', 'Mahatma-Gandhi,_studio,_1931', 'Dhanush_at_the_‘Asuran’_Success_Meet', 'Screenshot 2022-04-21 at 10', 'Screenshot 2022-04-21 at 10', 'Chandrababu_Naidu_2017', 'Screenshot 2022-04-21 at 10', 'Q1r6FSus_400x400', 'Screenshot 2022-04-21 at 10', 'Screenshot 2022-04-21 at 10', 'Venkaiah_Naidu_official_portrait', 'Screenshot 2022-04-21 at 10', 'obama', 'Jnehru', 'Screenshot 2022-04-21 at 10', 'Screenshot 2022-04-21 at 10', 'elon musk', 'Screenshot 2022-04-21 at 10', 'Screenshot 2022-04-21 at 10', '220414145654-vladimir-putin-february-18-2022-file', 'PgOyX1vt_400x400', 'bill gates', 'mohanlal-7591', 'Screenshot 2022-04-21 at 10', 'a-big-reason-for-str-fans-to-celebrate-on-march-19-', 'MV5BYWM5OTY0MDktMjExYy00ZDUxLWJiNmQtYTczOTY5MmQwNDIxXkEyXkFqcGdeQXVyNDUzOTQ5MjY@', 'Screenshot 2022-04-21 at 10', 'Screenshot 2022-04-21 at 10', 'b576b886-c6d1-11eb-a69e-010fcdd27e0e_1625943094417']\n",
      "['EjDz0YcU8AADvXi', 'Screenshot 2022-04-21 at 10', 'Riches-Owned-By-Raj-Kapoor-During-His-Lifetime1200_5ed65ac7df7d5', 'Screenshot 2022-04-21 at 10', 'Screenshot 2022-04-21 at 10', 'SS-Rajamouli-Biography-RRR-director', 'jeff bezos', 'file77wj8fdnuqh12166unju-1593850522', '59-596739_ajith-hd', 'Mahatma-Gandhi,_studio,_1931', 'Dhanush_at_the_‘Asuran’_Success_Meet', 'Screenshot 2022-04-21 at 10', 'Screenshot 2022-04-21 at 10', 'Chandrababu_Naidu_2017', 'Screenshot 2022-04-21 at 10', 'Q1r6FSus_400x400', 'Screenshot 2022-04-21 at 10', 'Screenshot 2022-04-21 at 10', 'Venkaiah_Naidu_official_portrait', 'Screenshot 2022-04-21 at 10', 'obama', 'Jnehru', 'Screenshot 2022-04-21 at 10', 'Screenshot 2022-04-21 at 10', 'elon musk', 'Screenshot 2022-04-21 at 10', 'Screenshot 2022-04-21 at 10', '220414145654-vladimir-putin-february-18-2022-file', 'PgOyX1vt_400x400', 'bill gates', 'mohanlal-7591', 'Screenshot 2022-04-21 at 10', 'a-big-reason-for-str-fans-to-celebrate-on-march-19-', 'MV5BYWM5OTY0MDktMjExYy00ZDUxLWJiNmQtYTczOTY5MmQwNDIxXkEyXkFqcGdeQXVyNDUzOTQ5MjY@', 'Screenshot 2022-04-21 at 10', 'Screenshot 2022-04-21 at 10', 'b576b886-c6d1-11eb-a69e-010fcdd27e0e_1625943094417', 'Screenshot 2022-04-21 at 10']\n",
      "['EjDz0YcU8AADvXi', 'Screenshot 2022-04-21 at 10', 'Riches-Owned-By-Raj-Kapoor-During-His-Lifetime1200_5ed65ac7df7d5', 'Screenshot 2022-04-21 at 10', 'Screenshot 2022-04-21 at 10', 'SS-Rajamouli-Biography-RRR-director', 'jeff bezos', 'file77wj8fdnuqh12166unju-1593850522', '59-596739_ajith-hd', 'Mahatma-Gandhi,_studio,_1931', 'Dhanush_at_the_‘Asuran’_Success_Meet', 'Screenshot 2022-04-21 at 10', 'Screenshot 2022-04-21 at 10', 'Chandrababu_Naidu_2017', 'Screenshot 2022-04-21 at 10', 'Q1r6FSus_400x400', 'Screenshot 2022-04-21 at 10', 'Screenshot 2022-04-21 at 10', 'Venkaiah_Naidu_official_portrait', 'Screenshot 2022-04-21 at 10', 'obama', 'Jnehru', 'Screenshot 2022-04-21 at 10', 'Screenshot 2022-04-21 at 10', 'elon musk', 'Screenshot 2022-04-21 at 10', 'Screenshot 2022-04-21 at 10', '220414145654-vladimir-putin-february-18-2022-file', 'PgOyX1vt_400x400', 'bill gates', 'mohanlal-7591', 'Screenshot 2022-04-21 at 10', 'a-big-reason-for-str-fans-to-celebrate-on-march-19-', 'MV5BYWM5OTY0MDktMjExYy00ZDUxLWJiNmQtYTczOTY5MmQwNDIxXkEyXkFqcGdeQXVyNDUzOTQ5MjY@', 'Screenshot 2022-04-21 at 10', 'Screenshot 2022-04-21 at 10', 'b576b886-c6d1-11eb-a69e-010fcdd27e0e_1625943094417', 'Screenshot 2022-04-21 at 10', 'Screenshot 2022-04-21 at 10']\n"
     ]
    }
   ],
   "source": [
    "paths = glob.glob('/Users/apple/Desktop/TARP/data/*')\n",
    "names = []\n",
    "images = []\n",
    "image_encodings = []\n",
    "image_names = []\n",
    "count_img = 0\n",
    "for i in paths:\n",
    "    images.append(face_recognition.load_image_file(i))\n",
    "    image_encodings.append(face_recognition.face_encodings(images[count_img])[0])\n",
    "    image_names.append(i.split('/')[-1].split('.')[0])\n",
    "    count_img+=1\n",
    "    print(image_names)"
   ]
  },
  {
   "cell_type": "code",
   "execution_count": 4,
   "metadata": {},
   "outputs": [],
   "source": [
    "## Data encoding, Training and detecting"
   ]
  },
  {
   "cell_type": "code",
   "execution_count": 4,
   "metadata": {},
   "outputs": [
    {
     "ename": "KeyboardInterrupt",
     "evalue": "",
     "output_type": "error",
     "traceback": [
      "\u001b[0;31m---------------------------------------------------------------------------\u001b[0m",
      "\u001b[0;31mKeyboardInterrupt\u001b[0m                         Traceback (most recent call last)",
      "\u001b[0;32m<ipython-input-4-64ac64f14824>\u001b[0m in \u001b[0;36m<module>\u001b[0;34m\u001b[0m\n\u001b[1;32m      4\u001b[0m     \u001b[0mret\u001b[0m\u001b[0;34m,\u001b[0m\u001b[0mframe\u001b[0m \u001b[0;34m=\u001b[0m \u001b[0mcap\u001b[0m\u001b[0;34m.\u001b[0m\u001b[0mread\u001b[0m\u001b[0;34m(\u001b[0m\u001b[0;34m)\u001b[0m\u001b[0;34m\u001b[0m\u001b[0;34m\u001b[0m\u001b[0m\n\u001b[1;32m      5\u001b[0m     \u001b[0mgray\u001b[0m \u001b[0;34m=\u001b[0m \u001b[0mframe\u001b[0m\u001b[0;34m[\u001b[0m\u001b[0;34m:\u001b[0m\u001b[0;34m,\u001b[0m \u001b[0;34m:\u001b[0m\u001b[0;34m,\u001b[0m \u001b[0;34m:\u001b[0m\u001b[0;34m:\u001b[0m\u001b[0;34m-\u001b[0m\u001b[0;36m1\u001b[0m\u001b[0;34m]\u001b[0m\u001b[0;34m\u001b[0m\u001b[0;34m\u001b[0m\u001b[0m\n\u001b[0;32m----> 6\u001b[0;31m     \u001b[0mface_locations\u001b[0m \u001b[0;34m=\u001b[0m \u001b[0mface_recognition\u001b[0m\u001b[0;34m.\u001b[0m\u001b[0mface_locations\u001b[0m\u001b[0;34m(\u001b[0m\u001b[0mgray\u001b[0m\u001b[0;34m)\u001b[0m\u001b[0;34m\u001b[0m\u001b[0;34m\u001b[0m\u001b[0m\n\u001b[0m\u001b[1;32m      7\u001b[0m     \u001b[0mface_encodings\u001b[0m \u001b[0;34m=\u001b[0m \u001b[0mface_recognition\u001b[0m\u001b[0;34m.\u001b[0m\u001b[0mface_encodings\u001b[0m\u001b[0;34m(\u001b[0m\u001b[0mgray\u001b[0m\u001b[0;34m,\u001b[0m \u001b[0mface_locations\u001b[0m\u001b[0;34m)\u001b[0m\u001b[0;34m\u001b[0m\u001b[0;34m\u001b[0m\u001b[0m\n\u001b[1;32m      8\u001b[0m     \u001b[0;32mfor\u001b[0m \u001b[0;34m(\u001b[0m\u001b[0mtop\u001b[0m\u001b[0;34m,\u001b[0m \u001b[0mright\u001b[0m\u001b[0;34m,\u001b[0m \u001b[0mbottom\u001b[0m\u001b[0;34m,\u001b[0m \u001b[0mleft\u001b[0m\u001b[0;34m)\u001b[0m\u001b[0;34m,\u001b[0m \u001b[0mface_encoding\u001b[0m \u001b[0;32min\u001b[0m \u001b[0mzip\u001b[0m\u001b[0;34m(\u001b[0m\u001b[0mface_locations\u001b[0m\u001b[0;34m,\u001b[0m \u001b[0mface_encodings\u001b[0m\u001b[0;34m)\u001b[0m\u001b[0;34m:\u001b[0m\u001b[0;34m\u001b[0m\u001b[0;34m\u001b[0m\u001b[0m\n",
      "\u001b[0;32m~/opt/anaconda3/lib/python3.8/site-packages/face_recognition/api.py\u001b[0m in \u001b[0;36mface_locations\u001b[0;34m(img, number_of_times_to_upsample, model)\u001b[0m\n\u001b[1;32m    119\u001b[0m         \u001b[0;32mreturn\u001b[0m \u001b[0;34m[\u001b[0m\u001b[0m_trim_css_to_bounds\u001b[0m\u001b[0;34m(\u001b[0m\u001b[0m_rect_to_css\u001b[0m\u001b[0;34m(\u001b[0m\u001b[0mface\u001b[0m\u001b[0;34m.\u001b[0m\u001b[0mrect\u001b[0m\u001b[0;34m)\u001b[0m\u001b[0;34m,\u001b[0m \u001b[0mimg\u001b[0m\u001b[0;34m.\u001b[0m\u001b[0mshape\u001b[0m\u001b[0;34m)\u001b[0m \u001b[0;32mfor\u001b[0m \u001b[0mface\u001b[0m \u001b[0;32min\u001b[0m \u001b[0m_raw_face_locations\u001b[0m\u001b[0;34m(\u001b[0m\u001b[0mimg\u001b[0m\u001b[0;34m,\u001b[0m \u001b[0mnumber_of_times_to_upsample\u001b[0m\u001b[0;34m,\u001b[0m \u001b[0;34m\"cnn\"\u001b[0m\u001b[0;34m)\u001b[0m\u001b[0;34m]\u001b[0m\u001b[0;34m\u001b[0m\u001b[0;34m\u001b[0m\u001b[0m\n\u001b[1;32m    120\u001b[0m     \u001b[0;32melse\u001b[0m\u001b[0;34m:\u001b[0m\u001b[0;34m\u001b[0m\u001b[0;34m\u001b[0m\u001b[0m\n\u001b[0;32m--> 121\u001b[0;31m         \u001b[0;32mreturn\u001b[0m \u001b[0;34m[\u001b[0m\u001b[0m_trim_css_to_bounds\u001b[0m\u001b[0;34m(\u001b[0m\u001b[0m_rect_to_css\u001b[0m\u001b[0;34m(\u001b[0m\u001b[0mface\u001b[0m\u001b[0;34m)\u001b[0m\u001b[0;34m,\u001b[0m \u001b[0mimg\u001b[0m\u001b[0;34m.\u001b[0m\u001b[0mshape\u001b[0m\u001b[0;34m)\u001b[0m \u001b[0;32mfor\u001b[0m \u001b[0mface\u001b[0m \u001b[0;32min\u001b[0m \u001b[0m_raw_face_locations\u001b[0m\u001b[0;34m(\u001b[0m\u001b[0mimg\u001b[0m\u001b[0;34m,\u001b[0m \u001b[0mnumber_of_times_to_upsample\u001b[0m\u001b[0;34m,\u001b[0m \u001b[0mmodel\u001b[0m\u001b[0;34m)\u001b[0m\u001b[0;34m]\u001b[0m\u001b[0;34m\u001b[0m\u001b[0;34m\u001b[0m\u001b[0m\n\u001b[0m\u001b[1;32m    122\u001b[0m \u001b[0;34m\u001b[0m\u001b[0m\n\u001b[1;32m    123\u001b[0m \u001b[0;34m\u001b[0m\u001b[0m\n",
      "\u001b[0;32m~/opt/anaconda3/lib/python3.8/site-packages/face_recognition/api.py\u001b[0m in \u001b[0;36m_raw_face_locations\u001b[0;34m(img, number_of_times_to_upsample, model)\u001b[0m\n\u001b[1;32m    103\u001b[0m         \u001b[0;32mreturn\u001b[0m \u001b[0mcnn_face_detector\u001b[0m\u001b[0;34m(\u001b[0m\u001b[0mimg\u001b[0m\u001b[0;34m,\u001b[0m \u001b[0mnumber_of_times_to_upsample\u001b[0m\u001b[0;34m)\u001b[0m\u001b[0;34m\u001b[0m\u001b[0;34m\u001b[0m\u001b[0m\n\u001b[1;32m    104\u001b[0m     \u001b[0;32melse\u001b[0m\u001b[0;34m:\u001b[0m\u001b[0;34m\u001b[0m\u001b[0;34m\u001b[0m\u001b[0m\n\u001b[0;32m--> 105\u001b[0;31m         \u001b[0;32mreturn\u001b[0m \u001b[0mface_detector\u001b[0m\u001b[0;34m(\u001b[0m\u001b[0mimg\u001b[0m\u001b[0;34m,\u001b[0m \u001b[0mnumber_of_times_to_upsample\u001b[0m\u001b[0;34m)\u001b[0m\u001b[0;34m\u001b[0m\u001b[0;34m\u001b[0m\u001b[0m\n\u001b[0m\u001b[1;32m    106\u001b[0m \u001b[0;34m\u001b[0m\u001b[0m\n\u001b[1;32m    107\u001b[0m \u001b[0;34m\u001b[0m\u001b[0m\n",
      "\u001b[0;31mKeyboardInterrupt\u001b[0m: "
     ]
    }
   ],
   "source": [
    "count = 0\n",
    "cap = cv2.VideoCapture(0)\n",
    "while True:\n",
    "    ret,frame = cap.read()\n",
    "    gray = frame[:, :, ::-1]\n",
    "    face_locations = face_recognition.face_locations(gray)\n",
    "    face_encodings = face_recognition.face_encodings(gray, face_locations)\n",
    "    for (top, right, bottom, left), face_encoding in zip(face_locations, face_encodings):\n",
    "        matches = face_recognition.compare_faces(image_encodings, face_encoding)\n",
    "        name = 'Unknown'\n",
    "        face_distances = face_recognition.face_distance(image_encodings, face_encoding)\n",
    "        best_match_index = np.argmin(face_distances)\n",
    "        if matches[best_match_index]:\n",
    "            name = image_names[best_match_index]\n",
    "        if(name=='Unknown'):\n",
    "            cv2.imwrite('/Users/apple/Desktop/TARP/intruders/intru-{}.jpg'.format(count),frame)\n",
    "            count+=1\n",
    "        cv2.rectangle(frame, (left, top), (right, bottom), (0, 0, 255), 3)\n",
    "        font = cv2.FONT_HERSHEY_DUPLEX\n",
    "        cv2.putText(frame, name, (left + 6, bottom - 6), font, 1.0, (255, 255, 255), 1)\n",
    "    cv2.imshow(\"output\",frame)\n",
    "    if(cv2.waitKey(1)==ord('q')):\n",
    "        break\n",
    "cap.release()\n",
    "cv2.destroyAllWindows()"
   ]
  },
  {
   "cell_type": "code",
   "execution_count": null,
   "metadata": {},
   "outputs": [],
   "source": [
    "##email selection"
   ]
  },
  {
   "cell_type": "code",
   "execution_count": null,
   "metadata": {},
   "outputs": [],
   "source": [
    "myPath = glob.glob('/Users/apple/Desktop/TARP/intruders/*')\n",
    "global countFolder\n",
    "count=0\n",
    "# if(len(myPath)<20):\n",
    "#     moduleVal = 2\n",
    "# else:\n",
    "#     moduleVal = 4\n",
    "for i in myPath:\n",
    "    img = cv2.imread(i)\n",
    "#     cap.set(3, 640)\n",
    "#     cap.set(4, 480)\n",
    "#     cap.set(10,180)\n",
    "    print(blur)\n",
    "    gray_img = cv2.cvtColor(img,cv2.COLOR_BGR2GRAY)\n",
    "    blur = cv2.Laplacian(gray_img, cv2.CV_64F).var()\n",
    "    if(count % 1 == 0 and blur > 320):\n",
    "        cv2.imwrite(\"/Users/apple/Desktop/TARP/intruders/data/pic-{}.jpg\".format(count), img)\n",
    "        count += 1\n",
    "    "
   ]
  },
  {
   "cell_type": "code",
   "execution_count": null,
   "metadata": {},
   "outputs": [],
   "source": [
    "##emailing intruder images "
   ]
  },
  {
   "cell_type": "code",
   "execution_count": 5,
   "metadata": {},
   "outputs": [
    {
     "name": "stdout",
     "output_type": "stream",
     "text": [
      "<smtplib.SMTP object at 0x7fe5dbb97760>\n"
     ]
    }
   ],
   "source": [
    "import smtplib\n",
    "session = smtplib.SMTP('smtp.gmail.com',587)\n",
    "print(session)"
   ]
  },
  {
   "cell_type": "code",
   "execution_count": 7,
   "metadata": {},
   "outputs": [
    {
     "data": {
      "text/plain": [
       "(250,\n",
       " b'smtp.gmail.com at your service, [122.187.117.179]\\nSIZE 35882577\\n8BITMIME\\nSTARTTLS\\nENHANCEDSTATUSCODES\\nPIPELINING\\nCHUNKING\\nSMTPUTF8')"
      ]
     },
     "execution_count": 7,
     "metadata": {},
     "output_type": "execute_result"
    }
   ],
   "source": [
    "import getpass\n",
    "import smtplib\n",
    "from smtplib import SMTPException\n",
    "server = smtplib.SMTP('smtp.gmail.com',587)\n",
    "server.ehlo()\n",
    "\n"
   ]
  },
  {
   "cell_type": "code",
   "execution_count": 8,
   "metadata": {},
   "outputs": [
    {
     "data": {
      "text/plain": [
       "(220, b'2.0.0 Ready to start TLS')"
      ]
     },
     "execution_count": 8,
     "metadata": {},
     "output_type": "execute_result"
    }
   ],
   "source": [
    "server.starttls()"
   ]
  },
  {
   "cell_type": "code",
   "execution_count": 9,
   "metadata": {},
   "outputs": [
    {
     "name": "stdout",
     "output_type": "stream",
     "text": [
      "········\n"
     ]
    },
    {
     "data": {
      "text/plain": [
       "(235, b'2.7.0 Accepted')"
      ]
     },
     "execution_count": 9,
     "metadata": {},
     "output_type": "execute_result"
    }
   ],
   "source": [
    "username = 'severusvardhan@gmail.com'\n",
    "passwd = getpass.getpass()\n",
    "server.login(username,passwd)"
   ]
  },
  {
   "cell_type": "code",
   "execution_count": 10,
   "metadata": {},
   "outputs": [
    {
     "data": {
      "text/plain": [
       "{}"
      ]
     },
     "execution_count": 10,
     "metadata": {},
     "output_type": "execute_result"
    }
   ],
   "source": [
    "count=0\n",
    "\n",
    "from email.mime.multipart import MIMEMultipart\n",
    "from email.mime.text import MIMEText\n",
    "from email.mime.application import MIMEApplication\n",
    "from datetime import datetime\n",
    "#  For advanced mails and attachment files. \n",
    "msg= MIMEMultipart()\n",
    "msg['from'] = username\n",
    "msg['to'] = username\n",
    "msg['subject'] = \"Images\"\n",
    "text = \"Check these sample unknown person images, if some thing *fishy!!* check intruder folder immediately\"\n",
    "msg.attach(MIMEText(text))\n",
    "F = glob.glob(\"/Users/apple/Desktop/TARP/intruders/*\")\n",
    "for i in F:\n",
    "    with open(i,'rb') as f:\n",
    "            part = MIMEApplication(f.read())\n",
    "            part.add_header('content-Disposition','attachment',filename='{}.jpg'.format(count+1))\n",
    "            msg.attach(part)\n",
    "server.sendmail(username,username,msg.as_string())\n",
    "\n",
    "## FOR SIMPLE TEXT\n",
    "# text = \"Link Intruder Images here\"\n",
    "# server.sendmail(username,username,text)"
   ]
  },
  {
   "cell_type": "code",
   "execution_count": null,
   "metadata": {},
   "outputs": [],
   "source": []
  },
  {
   "cell_type": "code",
   "execution_count": null,
   "metadata": {},
   "outputs": [],
   "source": []
  }
 ],
 "metadata": {
  "kernelspec": {
   "display_name": "Python 3",
   "language": "python",
   "name": "python3"
  },
  "language_info": {
   "codemirror_mode": {
    "name": "ipython",
    "version": 3
   },
   "file_extension": ".py",
   "mimetype": "text/x-python",
   "name": "python",
   "nbconvert_exporter": "python",
   "pygments_lexer": "ipython3",
   "version": "3.8.5"
  }
 },
 "nbformat": 4,
 "nbformat_minor": 4
}
